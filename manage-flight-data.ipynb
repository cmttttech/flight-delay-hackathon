{
 "cells": [
  {
   "cell_type": "code",
   "execution_count": 9,
   "metadata": {},
   "outputs": [
    {
     "name": "stdout",
     "output_type": "stream",
     "text": [
      "Initial DataFrame:\n",
      "   Year  Month  DayofMonth  DayOfWeek Carrier  OriginAirportID  \\\n",
      "0  2013      9          16          1      DL            15304   \n",
      "1  2013      9          23          1      WN            14122   \n",
      "2  2013      9           7          6      AS            14747   \n",
      "3  2013      7          22          1      OO            13930   \n",
      "4  2013      5          16          4      DL            13931   \n",
      "\n",
      "              OriginAirportName  OriginCity OriginState  DestAirportID  \\\n",
      "0           Tampa International       Tampa          FL          12478   \n",
      "1      Pittsburgh International  Pittsburgh          PA          13232   \n",
      "2  Seattle/Tacoma International     Seattle          WA          11278   \n",
      "3  Chicago O'Hare International     Chicago          IL          11042   \n",
      "4         Norfolk International     Norfolk          VA          10397   \n",
      "\n",
      "                            DestAirportName    DestCity DestState  CRSDepTime  \\\n",
      "0             John F. Kennedy International    New York        NY        1539   \n",
      "1              Chicago Midway International     Chicago        IL         710   \n",
      "2         Ronald Reagan Washington National  Washington        DC         810   \n",
      "3           Cleveland-Hopkins International   Cleveland        OH         804   \n",
      "4  Hartsfield-Jackson Atlanta International     Atlanta        GA         545   \n",
      "\n",
      "   DepDelay  DepDel15  CRSArrTime  ArrDelay  ArrDel15  Cancelled  \n",
      "0         4       0.0        1824        13         0        NaN  \n",
      "1         3       0.0         740        22         1        0.0  \n",
      "2        -3       0.0        1614        -7         0        0.0  \n",
      "3        35       1.0        1027        33         1        0.0  \n",
      "4        -1       0.0         728        -9         0        0.0  \n",
      "\n",
      "DataFrame after replacing null values with zero:\n",
      "   Year  Month  DayofMonth  DayOfWeek Carrier  OriginAirportID  \\\n",
      "0  2013      9          16          1      DL            15304   \n",
      "1  2013      9          23          1      WN            14122   \n",
      "2  2013      9           7          6      AS            14747   \n",
      "3  2013      7          22          1      OO            13930   \n",
      "4  2013      5          16          4      DL            13931   \n",
      "\n",
      "              OriginAirportName  OriginCity OriginState  DestAirportID  \\\n",
      "0           Tampa International       Tampa          FL          12478   \n",
      "1      Pittsburgh International  Pittsburgh          PA          13232   \n",
      "2  Seattle/Tacoma International     Seattle          WA          11278   \n",
      "3  Chicago O'Hare International     Chicago          IL          11042   \n",
      "4         Norfolk International     Norfolk          VA          10397   \n",
      "\n",
      "                            DestAirportName    DestCity DestState  CRSDepTime  \\\n",
      "0             John F. Kennedy International    New York        NY        1539   \n",
      "1              Chicago Midway International     Chicago        IL         710   \n",
      "2         Ronald Reagan Washington National  Washington        DC         810   \n",
      "3           Cleveland-Hopkins International   Cleveland        OH         804   \n",
      "4  Hartsfield-Jackson Atlanta International     Atlanta        GA         545   \n",
      "\n",
      "   DepDelay  DepDel15  CRSArrTime  ArrDelay  ArrDel15  Cancelled  \n",
      "0         4       0.0        1824        13         0        0.0  \n",
      "1         3       0.0         740        22         1        0.0  \n",
      "2        -3       0.0        1614        -7         0        0.0  \n",
      "3        35       1.0        1027        33         1        0.0  \n",
      "4        -1       0.0         728        -9         0        0.0  \n",
      "\n",
      "Cleaned data saved to data/cleaned_flights.csv\n"
     ]
    },
    {
     "ename": "KeyError",
     "evalue": "'Origin'",
     "output_type": "error",
     "traceback": [
      "\u001b[1;31m---------------------------------------------------------------------------\u001b[0m",
      "\u001b[1;31mKeyError\u001b[0m                                  Traceback (most recent call last)",
      "\u001b[1;32m~\\AppData\\Local\\Temp\\ipykernel_20456\\4168975648.py\u001b[0m in \u001b[0;36m<module>\u001b[1;34m\u001b[0m\n\u001b[0;32m     29\u001b[0m \u001b[1;33m\u001b[0m\u001b[0m\n\u001b[0;32m     30\u001b[0m \u001b[1;31m# Routes that are most likely delayed\u001b[0m\u001b[1;33m\u001b[0m\u001b[1;33m\u001b[0m\u001b[1;33m\u001b[0m\u001b[0m\n\u001b[1;32m---> 31\u001b[1;33m \u001b[0mroutes_delay\u001b[0m \u001b[1;33m=\u001b[0m \u001b[0mdf\u001b[0m\u001b[1;33m.\u001b[0m\u001b[0mgroupby\u001b[0m\u001b[1;33m(\u001b[0m\u001b[1;33m[\u001b[0m\u001b[1;34m'Origin'\u001b[0m\u001b[1;33m,\u001b[0m \u001b[1;34m'Destination'\u001b[0m\u001b[1;33m]\u001b[0m\u001b[1;33m)\u001b[0m\u001b[1;33m[\u001b[0m\u001b[1;34m'Delay'\u001b[0m\u001b[1;33m]\u001b[0m\u001b[1;33m.\u001b[0m\u001b[0mmean\u001b[0m\u001b[1;33m(\u001b[0m\u001b[1;33m)\u001b[0m\u001b[1;33m.\u001b[0m\u001b[0mreset_index\u001b[0m\u001b[1;33m(\u001b[0m\u001b[1;33m)\u001b[0m\u001b[1;33m\u001b[0m\u001b[1;33m\u001b[0m\u001b[0m\n\u001b[0m\u001b[0;32m     32\u001b[0m \u001b[0mroutes_delay\u001b[0m \u001b[1;33m=\u001b[0m \u001b[0mroutes_delay\u001b[0m\u001b[1;33m.\u001b[0m\u001b[0msort_values\u001b[0m\u001b[1;33m(\u001b[0m\u001b[0mby\u001b[0m\u001b[1;33m=\u001b[0m\u001b[1;34m'Delay'\u001b[0m\u001b[1;33m,\u001b[0m \u001b[0mascending\u001b[0m\u001b[1;33m=\u001b[0m\u001b[1;32mFalse\u001b[0m\u001b[1;33m)\u001b[0m\u001b[1;33m\u001b[0m\u001b[1;33m\u001b[0m\u001b[0m\n\u001b[0;32m     33\u001b[0m \u001b[0mroutes_delay\u001b[0m\u001b[1;33m.\u001b[0m\u001b[0mto_csv\u001b[0m\u001b[1;33m(\u001b[0m\u001b[1;34m'data/routes_most_likely_delayed.csv'\u001b[0m\u001b[1;33m,\u001b[0m \u001b[0mindex\u001b[0m\u001b[1;33m=\u001b[0m\u001b[1;32mFalse\u001b[0m\u001b[1;33m)\u001b[0m\u001b[1;33m\u001b[0m\u001b[1;33m\u001b[0m\u001b[0m\n",
      "\u001b[1;32mc:\\Python3_7_4_64bit\\lib\\site-packages\\pandas\\core\\frame.py\u001b[0m in \u001b[0;36mgroupby\u001b[1;34m(self, by, axis, level, as_index, sort, group_keys, squeeze, observed, dropna)\u001b[0m\n\u001b[0;32m   7639\u001b[0m             \u001b[0msqueeze\u001b[0m\u001b[1;33m=\u001b[0m\u001b[0msqueeze\u001b[0m\u001b[1;33m,\u001b[0m  \u001b[1;31m# type: ignore[arg-type]\u001b[0m\u001b[1;33m\u001b[0m\u001b[1;33m\u001b[0m\u001b[0m\n\u001b[0;32m   7640\u001b[0m             \u001b[0mobserved\u001b[0m\u001b[1;33m=\u001b[0m\u001b[0mobserved\u001b[0m\u001b[1;33m,\u001b[0m\u001b[1;33m\u001b[0m\u001b[1;33m\u001b[0m\u001b[0m\n\u001b[1;32m-> 7641\u001b[1;33m             \u001b[0mdropna\u001b[0m\u001b[1;33m=\u001b[0m\u001b[0mdropna\u001b[0m\u001b[1;33m,\u001b[0m\u001b[1;33m\u001b[0m\u001b[1;33m\u001b[0m\u001b[0m\n\u001b[0m\u001b[0;32m   7642\u001b[0m         )\n\u001b[0;32m   7643\u001b[0m \u001b[1;33m\u001b[0m\u001b[0m\n",
      "\u001b[1;32mc:\\Python3_7_4_64bit\\lib\\site-packages\\pandas\\core\\groupby\\groupby.py\u001b[0m in \u001b[0;36m__init__\u001b[1;34m(self, obj, keys, axis, level, grouper, exclusions, selection, as_index, sort, group_keys, squeeze, observed, mutated, dropna)\u001b[0m\n\u001b[0;32m    895\u001b[0m                 \u001b[0mobserved\u001b[0m\u001b[1;33m=\u001b[0m\u001b[0mobserved\u001b[0m\u001b[1;33m,\u001b[0m\u001b[1;33m\u001b[0m\u001b[1;33m\u001b[0m\u001b[0m\n\u001b[0;32m    896\u001b[0m                 \u001b[0mmutated\u001b[0m\u001b[1;33m=\u001b[0m\u001b[0mself\u001b[0m\u001b[1;33m.\u001b[0m\u001b[0mmutated\u001b[0m\u001b[1;33m,\u001b[0m\u001b[1;33m\u001b[0m\u001b[1;33m\u001b[0m\u001b[0m\n\u001b[1;32m--> 897\u001b[1;33m                 \u001b[0mdropna\u001b[0m\u001b[1;33m=\u001b[0m\u001b[0mself\u001b[0m\u001b[1;33m.\u001b[0m\u001b[0mdropna\u001b[0m\u001b[1;33m,\u001b[0m\u001b[1;33m\u001b[0m\u001b[1;33m\u001b[0m\u001b[0m\n\u001b[0m\u001b[0;32m    898\u001b[0m             )\n\u001b[0;32m    899\u001b[0m \u001b[1;33m\u001b[0m\u001b[0m\n",
      "\u001b[1;32mc:\\Python3_7_4_64bit\\lib\\site-packages\\pandas\\core\\groupby\\grouper.py\u001b[0m in \u001b[0;36mget_grouper\u001b[1;34m(obj, key, axis, level, sort, observed, mutated, validate, dropna)\u001b[0m\n\u001b[0;32m    860\u001b[0m                 \u001b[0min_axis\u001b[0m\u001b[1;33m,\u001b[0m \u001b[0mlevel\u001b[0m\u001b[1;33m,\u001b[0m \u001b[0mgpr\u001b[0m \u001b[1;33m=\u001b[0m \u001b[1;32mFalse\u001b[0m\u001b[1;33m,\u001b[0m \u001b[0mgpr\u001b[0m\u001b[1;33m,\u001b[0m \u001b[1;32mNone\u001b[0m\u001b[1;33m\u001b[0m\u001b[1;33m\u001b[0m\u001b[0m\n\u001b[0;32m    861\u001b[0m             \u001b[1;32melse\u001b[0m\u001b[1;33m:\u001b[0m\u001b[1;33m\u001b[0m\u001b[1;33m\u001b[0m\u001b[0m\n\u001b[1;32m--> 862\u001b[1;33m                 \u001b[1;32mraise\u001b[0m \u001b[0mKeyError\u001b[0m\u001b[1;33m(\u001b[0m\u001b[0mgpr\u001b[0m\u001b[1;33m)\u001b[0m\u001b[1;33m\u001b[0m\u001b[1;33m\u001b[0m\u001b[0m\n\u001b[0m\u001b[0;32m    863\u001b[0m         \u001b[1;32melif\u001b[0m \u001b[0misinstance\u001b[0m\u001b[1;33m(\u001b[0m\u001b[0mgpr\u001b[0m\u001b[1;33m,\u001b[0m \u001b[0mGrouper\u001b[0m\u001b[1;33m)\u001b[0m \u001b[1;32mand\u001b[0m \u001b[0mgpr\u001b[0m\u001b[1;33m.\u001b[0m\u001b[0mkey\u001b[0m \u001b[1;32mis\u001b[0m \u001b[1;32mnot\u001b[0m \u001b[1;32mNone\u001b[0m\u001b[1;33m:\u001b[0m\u001b[1;33m\u001b[0m\u001b[1;33m\u001b[0m\u001b[0m\n\u001b[0;32m    864\u001b[0m             \u001b[1;31m# Add key to exclusions\u001b[0m\u001b[1;33m\u001b[0m\u001b[1;33m\u001b[0m\u001b[1;33m\u001b[0m\u001b[0m\n",
      "\u001b[1;31mKeyError\u001b[0m: 'Origin'"
     ]
    }
   ],
   "source": [
    "# Import required libraries\n",
    "import pandas as pd\n",
    "\n",
    "# Load the CSV file\n",
    "file_path = 'data/flights.csv'\n",
    "df = pd.read_csv(file_path)\n",
    "\n",
    "# Inspect the data\n",
    "print(\"Initial DataFrame:\")\n",
    "print(df.head())\n",
    "\n",
    "# Replace null values with zero\n",
    "df.fillna(0, inplace=True)\n",
    "\n",
    "# Inspect the cleaned data\n",
    "print(\"\\nDataFrame after replacing null values with zero:\")\n",
    "print(df.head())\n",
    "\n",
    "# Save the cleaned data to a new CSV file\n",
    "cleaned_file_path = 'data/cleaned_flights.csv'\n",
    "df.to_csv(cleaned_file_path, index=False)\n",
    "\n",
    "print(f\"\\nCleaned data saved to {cleaned_file_path}\")"
   ]
  },
  {
   "cell_type": "code",
   "execution_count": null,
   "metadata": {},
   "outputs": [],
   "source": [
    "# Group by Carrier and calculate the mean delay\n",
    "delay_per_airline = df.groupby('Carrier')['ArrDelay'].mean().reset_index()\n",
    "\n",
    "# Rename the columns for clarity\n",
    "delay_per_airline.columns = ['Carrier', 'AverageArrivalDelay']\n",
    "\n",
    "# Save the new dataset to a CSV file\n",
    "delay_file_path = 'data/delay_per_airline.csv'\n",
    "delay_per_airline.to_csv(delay_file_path, index=False)\n",
    "\n",
    "print(f\"Delay per airline data saved to {delay_file_path}\")"
   ]
  },
  {
   "cell_type": "code",
   "execution_count": null,
   "metadata": {},
   "outputs": [],
   "source": [
    "# Group by Origin and Destination airports and calculate the mean arrival delay\n",
    "delay_per_route = df.groupby(['OriginAirportName', 'DestAirportName'])['ArrDelay'].mean().reset_index()\n",
    "\n",
    "# Rename the columns for clarity\n",
    "delay_per_route.columns = ['OriginAirportName', 'DestAirportName', 'AverageArrivalDelay']\n",
    "\n",
    "# Sort the routes by the average arrival delay in descending order\n",
    "delay_per_route = delay_per_route.sort_values(by='AverageArrivalDelay', ascending=False)\n",
    "\n",
    "# Save the new dataset to a CSV file\n",
    "route_delay_file_path = 'data/delay_per_route.csv'\n",
    "delay_per_route.to_csv(route_delay_file_path, index=False)\n",
    "\n",
    "print(f\"Delay per route data saved to {route_delay_file_path}\")"
   ]
  }
 ],
 "metadata": {
  "kernelspec": {
   "display_name": "Python 3",
   "language": "python",
   "name": "python3"
  },
  "language_info": {
   "codemirror_mode": {
    "name": "ipython",
    "version": 3
   },
   "file_extension": ".py",
   "mimetype": "text/x-python",
   "name": "python",
   "nbconvert_exporter": "python",
   "pygments_lexer": "ipython3",
   "version": "3.7.4"
  }
 },
 "nbformat": 4,
 "nbformat_minor": 2
}
